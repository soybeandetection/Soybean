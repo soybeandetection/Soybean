{
 "cells": [
  {
   "cell_type": "code",
   "execution_count": 1,
   "id": "26c9b4ae",
   "metadata": {},
   "outputs": [],
   "source": [
    "from bokeh.models import ColumnDataSource\n",
    "data = {'x':[1, 4, 3, 2, 5],\n",
    "   'y':[6, 5, 2, 4, 7]}\n",
    "cds = ColumnDataSource(data = data)"
   ]
  },
  {
   "cell_type": "code",
   "execution_count": 2,
   "id": "431e2cec",
   "metadata": {},
   "outputs": [
    {
     "data": {
      "text/html": [
       "<div style=\"display: table;\"><div style=\"display: table-row;\"><div style=\"display: table-cell;\"><b title=\"bokeh.models.sources.ColumnDataSource\">ColumnDataSource</b>(</div><div style=\"display: table-cell;\">id&nbsp;=&nbsp;'1001', <span id=\"1003\" style=\"cursor: pointer;\">&hellip;)</span></div></div><div class=\"1002\" style=\"display: none;\"><div style=\"display: table-cell;\"></div><div style=\"display: table-cell;\">data&nbsp;=&nbsp;{'y': [6, 5, 2, 4, 7], 'x': [1, 4, 3, 2, 5]},</div></div><div class=\"1002\" style=\"display: none;\"><div style=\"display: table-cell;\"></div><div style=\"display: table-cell;\">js_event_callbacks&nbsp;=&nbsp;{},</div></div><div class=\"1002\" style=\"display: none;\"><div style=\"display: table-cell;\"></div><div style=\"display: table-cell;\">js_property_callbacks&nbsp;=&nbsp;{},</div></div><div class=\"1002\" style=\"display: none;\"><div style=\"display: table-cell;\"></div><div style=\"display: table-cell;\">name&nbsp;=&nbsp;None,</div></div><div class=\"1002\" style=\"display: none;\"><div style=\"display: table-cell;\"></div><div style=\"display: table-cell;\">selected&nbsp;=&nbsp;Selection(id='1004', ...),</div></div><div class=\"1002\" style=\"display: none;\"><div style=\"display: table-cell;\"></div><div style=\"display: table-cell;\">selection_policy&nbsp;=&nbsp;UnionRenderers(id='1005', ...),</div></div><div class=\"1002\" style=\"display: none;\"><div style=\"display: table-cell;\"></div><div style=\"display: table-cell;\">subscribed_events&nbsp;=&nbsp;[],</div></div><div class=\"1002\" style=\"display: none;\"><div style=\"display: table-cell;\"></div><div style=\"display: table-cell;\">syncable&nbsp;=&nbsp;True,</div></div><div class=\"1002\" style=\"display: none;\"><div style=\"display: table-cell;\"></div><div style=\"display: table-cell;\">tags&nbsp;=&nbsp;[])</div></div></div>\n",
       "<script>\n",
       "(function() {\n",
       "  var expanded = false;\n",
       "  var ellipsis = document.getElementById(\"1003\");\n",
       "  ellipsis.addEventListener(\"click\", function() {\n",
       "    var rows = document.getElementsByClassName(\"1002\");\n",
       "    for (var i = 0; i < rows.length; i++) {\n",
       "      var el = rows[i];\n",
       "      el.style.display = expanded ? \"none\" : \"table-row\";\n",
       "    }\n",
       "    ellipsis.innerHTML = expanded ? \"&hellip;)\" : \"&lsaquo;&lsaquo;&lsaquo;\";\n",
       "    expanded = !expanded;\n",
       "  });\n",
       "})();\n",
       "</script>\n"
      ],
      "text/plain": [
       "ColumnDataSource(id='1001', ...)"
      ]
     },
     "execution_count": 2,
     "metadata": {},
     "output_type": "execute_result"
    }
   ],
   "source": [
    "cds"
   ]
  },
  {
   "cell_type": "code",
   "execution_count": 3,
   "id": "fed79238",
   "metadata": {},
   "outputs": [
    {
     "data": {
      "text/plain": [
       "{'x': [1, 4, 3, 2, 5], 'y': [6, 5, 2, 4, 7]}"
      ]
     },
     "execution_count": 3,
     "metadata": {},
     "output_type": "execute_result"
    }
   ],
   "source": [
    "data"
   ]
  },
  {
   "cell_type": "code",
   "execution_count": 21,
   "id": "ab8bf618",
   "metadata": {},
   "outputs": [
    {
     "data": {
      "text/html": [
       "<div style=\"display: table;\"><div style=\"display: table-row;\"><div style=\"display: table-cell;\"><b title=\"bokeh.models.renderers.GlyphRenderer\">GlyphRenderer</b>(</div><div style=\"display: table-cell;\">id&nbsp;=&nbsp;'1078', <span id=\"1081\" style=\"cursor: pointer;\">&hellip;)</span></div></div><div class=\"1080\" style=\"display: none;\"><div style=\"display: table-cell;\"></div><div style=\"display: table-cell;\">data_source&nbsp;=&nbsp;ColumnDataSource(id='1043', ...),</div></div><div class=\"1080\" style=\"display: none;\"><div style=\"display: table-cell;\"></div><div style=\"display: table-cell;\">glyph&nbsp;=&nbsp;Scatter(id='1076', ...),</div></div><div class=\"1080\" style=\"display: none;\"><div style=\"display: table-cell;\"></div><div style=\"display: table-cell;\">hover_glyph&nbsp;=&nbsp;None,</div></div><div class=\"1080\" style=\"display: none;\"><div style=\"display: table-cell;\"></div><div style=\"display: table-cell;\">js_event_callbacks&nbsp;=&nbsp;{},</div></div><div class=\"1080\" style=\"display: none;\"><div style=\"display: table-cell;\"></div><div style=\"display: table-cell;\">js_property_callbacks&nbsp;=&nbsp;{},</div></div><div class=\"1080\" style=\"display: none;\"><div style=\"display: table-cell;\"></div><div style=\"display: table-cell;\">level&nbsp;=&nbsp;'glyph',</div></div><div class=\"1080\" style=\"display: none;\"><div style=\"display: table-cell;\"></div><div style=\"display: table-cell;\">muted&nbsp;=&nbsp;False,</div></div><div class=\"1080\" style=\"display: none;\"><div style=\"display: table-cell;\"></div><div style=\"display: table-cell;\">muted_glyph&nbsp;=&nbsp;None,</div></div><div class=\"1080\" style=\"display: none;\"><div style=\"display: table-cell;\"></div><div style=\"display: table-cell;\">name&nbsp;=&nbsp;None,</div></div><div class=\"1080\" style=\"display: none;\"><div style=\"display: table-cell;\"></div><div style=\"display: table-cell;\">nonselection_glyph&nbsp;=&nbsp;Scatter(id='1077', ...),</div></div><div class=\"1080\" style=\"display: none;\"><div style=\"display: table-cell;\"></div><div style=\"display: table-cell;\">selection_glyph&nbsp;=&nbsp;'auto',</div></div><div class=\"1080\" style=\"display: none;\"><div style=\"display: table-cell;\"></div><div style=\"display: table-cell;\">subscribed_events&nbsp;=&nbsp;[],</div></div><div class=\"1080\" style=\"display: none;\"><div style=\"display: table-cell;\"></div><div style=\"display: table-cell;\">syncable&nbsp;=&nbsp;True,</div></div><div class=\"1080\" style=\"display: none;\"><div style=\"display: table-cell;\"></div><div style=\"display: table-cell;\">tags&nbsp;=&nbsp;[],</div></div><div class=\"1080\" style=\"display: none;\"><div style=\"display: table-cell;\"></div><div style=\"display: table-cell;\">view&nbsp;=&nbsp;CDSView(id='1079', ...),</div></div><div class=\"1080\" style=\"display: none;\"><div style=\"display: table-cell;\"></div><div style=\"display: table-cell;\">visible&nbsp;=&nbsp;True,</div></div><div class=\"1080\" style=\"display: none;\"><div style=\"display: table-cell;\"></div><div style=\"display: table-cell;\">x_range_name&nbsp;=&nbsp;'default',</div></div><div class=\"1080\" style=\"display: none;\"><div style=\"display: table-cell;\"></div><div style=\"display: table-cell;\">y_range_name&nbsp;=&nbsp;'default')</div></div></div>\n",
       "<script>\n",
       "(function() {\n",
       "  var expanded = false;\n",
       "  var ellipsis = document.getElementById(\"1081\");\n",
       "  ellipsis.addEventListener(\"click\", function() {\n",
       "    var rows = document.getElementsByClassName(\"1080\");\n",
       "    for (var i = 0; i < rows.length; i++) {\n",
       "      var el = rows[i];\n",
       "      el.style.display = expanded ? \"none\" : \"table-row\";\n",
       "    }\n",
       "    ellipsis.innerHTML = expanded ? \"&hellip;)\" : \"&lsaquo;&lsaquo;&lsaquo;\";\n",
       "    expanded = !expanded;\n",
       "  });\n",
       "})();\n",
       "</script>\n"
      ],
      "text/plain": [
       "GlyphRenderer(id='1078', ...)"
      ]
     },
     "execution_count": 21,
     "metadata": {},
     "output_type": "execute_result"
    }
   ],
   "source": [
    "from bokeh.plotting import figure, output_file, show\n",
    "from bokeh.models import ColumnDataSource, HoverTool, PrintfTickFormatter\n",
    "\n",
    "cds = ColumnDataSource(data = data)\n",
    "fig = figure()\n",
    "fig.scatter(x = 'x', y = 'y',source = cds)\n",
    "#show(fig)"
   ]
  },
  {
   "cell_type": "code",
   "execution_count": 3,
   "id": "ea2048bf",
   "metadata": {},
   "outputs": [],
   "source": [
    "import pandas as pd"
   ]
  },
  {
   "cell_type": "code",
   "execution_count": 4,
   "id": "fdb8bfb4",
   "metadata": {},
   "outputs": [],
   "source": [
    "data = pd.read_csv('Height.csv')"
   ]
  },
  {
   "cell_type": "code",
   "execution_count": 5,
   "id": "6b705d5a",
   "metadata": {},
   "outputs": [
    {
     "data": {
      "text/plain": [
       "[0, 1, 2, 3, 4, 5, 6, 7, 8, 9, 10, 11, 12, 13, 14, 15, 16, 17, 18, 19]"
      ]
     },
     "execution_count": 5,
     "metadata": {},
     "output_type": "execute_result"
    }
   ],
   "source": [
    "list(data['R3'].index)"
   ]
  },
  {
   "cell_type": "markdown",
   "id": "c06b6111",
   "metadata": {},
   "source": [
    "data = pd.read_csv('Height.csv')\n",
    "h=data['R3']\n",
    "i=list(data['R3'].index)\n",
    "source= ColumnDataSource(data={'height':h,'index':i})\n",
    "hover_tool = HoverTool(\n",
    "        tooltips=[('number', '@index'), ('Count', '@height')])\n",
    "p = figure(tools=[hover_tool], plot_height=400, title='Height of soya plant')\n",
    "p.line(x='index', y='height',source=source)"
   ]
  },
  {
   "cell_type": "code",
   "execution_count": 22,
   "id": "53cd059f",
   "metadata": {},
   "outputs": [],
   "source": [
    "d = pd.read_csv('Height.csv')"
   ]
  },
  {
   "cell_type": "code",
   "execution_count": 23,
   "id": "c0ee880f",
   "metadata": {},
   "outputs": [],
   "source": [
    "palette = ['#ba32a0', '#f85479', '#f8c260', '#00c2ba']\n",
    "\n",
    "chart_font = 'Helvetica'\n",
    "chart_title_font_size = '16pt'\n",
    "chart_title_alignment = 'center'\n",
    "axis_label_size = '14pt'\n",
    "axis_ticks_size = '12pt'\n",
    "default_padding = 30\n",
    "chart_inner_left_padding = 0.015\n",
    "chart_font_style_title = 'bold italic'\n",
    "\n",
    "\n",
    "def palette_generator(length, palette):\n",
    "    int_div = length // len(palette)\n",
    "    remainder = length % len(palette)\n",
    "    return (palette * int_div) + palette[:remainder]\n",
    "\n",
    "\n",
    "def plot_styler(p):\n",
    "    p.title.text_font_size = chart_title_font_size\n",
    "    p.title.text_font  = chart_font\n",
    "    p.title.align = chart_title_alignment\n",
    "    p.title.text_font_style = chart_font_style_title\n",
    "    p.y_range.start = 0\n",
    "    p.x_range.range_padding = chart_inner_left_padding\n",
    "    p.xaxis.axis_label_text_font = chart_font\n",
    "    p.xaxis.major_label_text_font = chart_font\n",
    "    p.xaxis.axis_label_standoff = default_padding\n",
    "    p.xaxis.axis_label_text_font_size = axis_label_size\n",
    "    p.xaxis.major_label_text_font_size = axis_ticks_size\n",
    "    p.yaxis.axis_label_text_font = chart_font\n",
    "    p.yaxis.major_label_text_font = chart_font\n",
    "    p.yaxis.axis_label_text_font_size = axis_label_size\n",
    "    p.yaxis.major_label_text_font_size = axis_ticks_size\n",
    "    p.yaxis.axis_label_standoff = default_padding\n",
    "    p.toolbar.logo = None\n",
    "    p.toolbar_location = None"
   ]
  },
  {
   "cell_type": "code",
   "execution_count": 24,
   "id": "93eec158",
   "metadata": {},
   "outputs": [],
   "source": [
    "def height_plot(data):\n",
    "    h=data['R3']\n",
    "    i=list(data['R3'].index)\n",
    "    source= ColumnDataSource(data={'height':h,'index':i})\n",
    "    hover_tool = HoverTool(\n",
    "        tooltips=[('number', '@index'), ('height', '@height')])\n",
    "    p = figure(tools=[hover_tool], plot_height=400, title='Height of soya plant')\n",
    "    p.line(x='index', y='height',source=source)\n",
    "    plot_styler(p)\n",
    "    p.xaxis.ticker = source.data['index']\n",
    "    \n",
    "   \n",
    "    \n",
    "    return p"
   ]
  },
  {
   "cell_type": "code",
   "execution_count": 27,
   "id": "75e869b5",
   "metadata": {},
   "outputs": [],
   "source": [
    "def redraw(df):\n",
    "    height_chart = height_plot(df)\n",
    "\n",
    "    return height_chart,show(height_chart)\n"
   ]
  },
  {
   "cell_type": "code",
   "execution_count": 28,
   "id": "92c0d892",
   "metadata": {},
   "outputs": [
    {
     "data": {
      "text/plain": [
       "(Figure(id='1118', ...), None)"
      ]
     },
     "execution_count": 28,
     "metadata": {},
     "output_type": "execute_result"
    }
   ],
   "source": [
    "redraw(d)"
   ]
  },
  {
   "cell_type": "code",
   "execution_count": null,
   "id": "01510712",
   "metadata": {},
   "outputs": [],
   "source": [
    "p = figure(plot_height=400, title='Did/Did not Survive for Current Class')"
   ]
  },
  {
   "cell_type": "code",
   "execution_count": 12,
   "id": "a71e0a85",
   "metadata": {},
   "outputs": [],
   "source": [
    "from bokeh.models import ColumnDataSource, HoverTool, PrintfTickFormatter"
   ]
  },
  {
   "cell_type": "code",
   "execution_count": 32,
   "id": "9a600e16",
   "metadata": {},
   "outputs": [],
   "source": [
    "hover_tool = HoverTool(\n",
    "        tooltips=[('Title', 'height'), ('value','@y')]\n",
    "    )"
   ]
  },
  {
   "cell_type": "code",
   "execution_count": 4,
   "id": "1de4efb2",
   "metadata": {},
   "outputs": [],
   "source": [
    "from bokeh.plotting import figure, output_file, show\n",
    "import random\n",
    "  \n",
    "   \n",
    "# instantiating the figure object\n",
    "graph = figure(title = \"Bokeh Line Graph\")\n",
    "  \n",
    "# name of the x-axis\n",
    "graph.xaxis.axis_label = \"x-axis\"\n",
    "  \n",
    "# name of the y-axis\n",
    "graph.yaxis.axis_label = \"y-axis\""
   ]
  },
  {
   "cell_type": "code",
   "execution_count": 5,
   "id": "d4a94403",
   "metadata": {},
   "outputs": [],
   "source": [
    "# parameters of line 1\n",
    "line_color = \"red\"\n",
    "line_dash = \"solid\"\n",
    "legend_label = \"Line 1\""
   ]
  },
  {
   "cell_type": "code",
   "execution_count": 9,
   "id": "1dc247f2",
   "metadata": {},
   "outputs": [],
   "source": [
    "x=list(data['R4'].index)\n",
    "y=data[['R4','R5']]"
   ]
  },
  {
   "cell_type": "code",
   "execution_count": 11,
   "id": "8b1b73e6",
   "metadata": {},
   "outputs": [
    {
     "ename": "SyntaxError",
     "evalue": "invalid syntax (Temp/ipykernel_884/4293470276.py, line 1)",
     "output_type": "error",
     "traceback": [
      "\u001b[1;36m  File \u001b[1;32m\"C:\\Users\\SHIVAN~1\\AppData\\Local\\Temp/ipykernel_884/4293470276.py\"\u001b[1;36m, line \u001b[1;32m1\u001b[0m\n\u001b[1;33m    for i in range(len(y))\u001b[0m\n\u001b[1;37m                          ^\u001b[0m\n\u001b[1;31mSyntaxError\u001b[0m\u001b[1;31m:\u001b[0m invalid syntax\n"
     ]
    }
   ],
   "source": [
    "for i in range(len(y))\n",
    "graph.line(x, y,\n",
    "           line_color = line_color,\n",
    "           line_dash = line_dash,\n",
    "           \n",
    "           legend_label = legend_label)"
   ]
  },
  {
   "cell_type": "code",
   "execution_count": 12,
   "id": "a01bd3b3",
   "metadata": {},
   "outputs": [],
   "source": [
    "show(graph)"
   ]
  },
  {
   "cell_type": "code",
   "execution_count": null,
   "id": "2ad7118b",
   "metadata": {},
   "outputs": [],
   "source": []
  }
 ],
 "metadata": {
  "kernelspec": {
   "display_name": "Python 3 (ipykernel)",
   "language": "python",
   "name": "python3"
  },
  "language_info": {
   "codemirror_mode": {
    "name": "ipython",
    "version": 3
   },
   "file_extension": ".py",
   "mimetype": "text/x-python",
   "name": "python",
   "nbconvert_exporter": "python",
   "pygments_lexer": "ipython3",
   "version": "3.9.7"
  }
 },
 "nbformat": 4,
 "nbformat_minor": 5
}
